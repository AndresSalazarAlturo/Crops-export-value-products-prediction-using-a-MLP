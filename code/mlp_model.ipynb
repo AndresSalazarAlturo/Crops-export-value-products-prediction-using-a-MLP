{
 "cells": [
  {
   "cell_type": "code",
   "execution_count": 1,
   "metadata": {},
   "outputs": [],
   "source": [
    "## Env alias - mlcw\n",
    "\n",
    "## Utilities\n",
    "import pandas as pd\n",
    "from sklearn.model_selection import train_test_split\n",
    "from sklearn.neural_network import MLPRegressor\n",
    "from sklearn.preprocessing import StandardScaler\n",
    "from sklearn.decomposition import PCA\n",
    "from sklearn.ensemble import RandomForestRegressor\n",
    "from sklearn.feature_selection import RFE\n",
    "from sklearn.preprocessing import MinMaxScaler, StandardScaler\n",
    "from sklearn.metrics import mean_absolute_error, mean_squared_error, r2_score, mean_squared_log_error"
   ]
  },
  {
   "cell_type": "code",
   "execution_count": 15,
   "metadata": {},
   "outputs": [],
   "source": [
    "# Load the dataset\n",
    "data = pd.read_csv('my_data/dataset_full_features.csv')"
   ]
  },
  {
   "cell_type": "markdown",
   "metadata": {},
   "source": [
    "### Pre-processing"
   ]
  },
  {
   "cell_type": "code",
   "execution_count": 16,
   "metadata": {},
   "outputs": [],
   "source": [
    "# Drop exchange_data and food inflation data as do not provide valuable information\n",
    "data = data.drop(['Exchange Data', 'Food Inflation'], axis=1)\n",
    "\n",
    "# Define the columns to be used as features (excluding 'Export Value' and 'Area')\n",
    "feature_columns = data.columns.difference(['Export Value', 'Area'])\n",
    "\n",
    "# Split the data based on the year\n",
    "# Training set from 1980 to 2017\n",
    "X_train = data.loc[data['Year'].between(1980, 2017), feature_columns]\n",
    "y_train = data.loc[data['Year'].between(1980, 2017), 'Export Value']\n",
    "\n",
    "# Testing set from 2018 to 2022\n",
    "X_test = data.loc[data['Year'].between(2018, 2022), feature_columns]\n",
    "y_test = data.loc[data['Year'].between(2018, 2022), 'Export Value']"
   ]
  },
  {
   "cell_type": "markdown",
   "metadata": {},
   "source": [
    "### Scaling the data and training the model"
   ]
  },
  {
   "cell_type": "code",
   "execution_count": 20,
   "metadata": {},
   "outputs": [
    {
     "name": "stdout",
     "output_type": "stream",
     "text": [
      "Mean Squared Error on Test Set: 2734255323835.7236\n",
      "     Actual      Predicted\n",
      "38   591.29  127061.364117\n",
      "39  8996.17  114620.992069\n",
      "40  2044.86  132612.705539\n",
      "41  1200.19   76635.415979\n",
      "42  1168.42 -137481.058510\n"
     ]
    }
   ],
   "source": [
    "# Scaling the features\n",
    "scaler = StandardScaler()\n",
    "X_train_scaled = scaler.fit_transform(X_train)\n",
    "X_test_scaled = scaler.transform(X_test)\n",
    "\n",
    "# Scaling the target\n",
    "target_scaler = StandardScaler()\n",
    "y_train_scaled = target_scaler.fit_transform(y_train.values.reshape(-1, 1))\n",
    "y_test_scaled = target_scaler.transform(y_test.values.reshape(-1, 1))\n",
    "\n",
    "# Train the MLP Regressor\n",
    "mlp = MLPRegressor(hidden_layer_sizes=(100, 50), activation='relu', solver='adam',\n",
    "                   alpha=0.1, max_iter=500, random_state=5, early_stopping=True)\n",
    "\n",
    "# Use ravel() to flatten the array back to 1D\n",
    "mlp.fit(X_train_scaled, y_train_scaled.ravel())\n",
    "\n",
    "# Predict the scaled export values for 2018 to 2022\n",
    "y_pred_scaled = mlp.predict(X_test_scaled)\n",
    "\n",
    "# Inverse transform the predicted scaled values back to the original scale\n",
    "y_pred = target_scaler.inverse_transform(y_pred_scaled.reshape(-1, 1))\n",
    "\n",
    "# Evaluate the model using Mean Squared Error (MSE)\n",
    "mse = mean_squared_error(y_test, y_pred)\n",
    "print(\"Mean Squared Error on Test Set:\", mse)\n",
    "\n",
    "# Optional: Display actual vs predicted values for visual comparison\n",
    "results = pd.DataFrame({'Actual': y_test, 'Predicted': y_pred.ravel()})\n",
    "print(results.head())"
   ]
  },
  {
   "cell_type": "code",
   "execution_count": 21,
   "metadata": {},
   "outputs": [
    {
     "name": "stdout",
     "output_type": "stream",
     "text": [
      "MAE: 428901.78384146636\n",
      "RMSE: 1653558.3823487223\n",
      "R-squared: 0.6941543023681334\n"
     ]
    },
    {
     "name": "stderr",
     "output_type": "stream",
     "text": [
      "c:\\Documents\\Sussex_Files\\Semester_2\\Machine_Learning\\Coursework\\MachineLearningCW\\Lib\\site-packages\\sklearn\\metrics\\_regression.py:483: FutureWarning: 'squared' is deprecated in version 1.4 and will be removed in 1.6. To calculate the root mean squared error, use the function'root_mean_squared_error'.\n",
      "  warnings.warn(\n"
     ]
    }
   ],
   "source": [
    "# Assuming y_test and y_pred are defined\n",
    "mae = mean_absolute_error(y_test, y_pred)\n",
    "rmse = mean_squared_error(y_test, y_pred, squared=False)\n",
    "r_squared = r2_score(y_test, y_pred)\n",
    "\n",
    "print(\"MAE:\", mae)\n",
    "print(\"RMSE:\", rmse)\n",
    "print(\"R-squared:\", r_squared)"
   ]
  },
  {
   "cell_type": "code",
   "execution_count": 19,
   "metadata": {},
   "outputs": [],
   "source": [
    "# Create the csv file with the predicted data and the actual data\n",
    "results.to_csv('my_data/model_predictions.csv', index=False)"
   ]
  }
 ],
 "metadata": {
  "kernelspec": {
   "display_name": "MachineLearningCW",
   "language": "python",
   "name": "python3"
  },
  "language_info": {
   "codemirror_mode": {
    "name": "ipython",
    "version": 3
   },
   "file_extension": ".py",
   "mimetype": "text/x-python",
   "name": "python",
   "nbconvert_exporter": "python",
   "pygments_lexer": "ipython3",
   "version": "3.11.4"
  }
 },
 "nbformat": 4,
 "nbformat_minor": 2
}
