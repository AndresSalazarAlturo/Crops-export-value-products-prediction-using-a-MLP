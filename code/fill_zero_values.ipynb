{
 "cells": [
  {
   "cell_type": "code",
   "execution_count": 1,
   "metadata": {},
   "outputs": [],
   "source": [
    "## Env alias - mlcw\n",
    "\n",
    "## Utilities\n",
    "import numpy as np\n",
    "import pandas as pd\n",
    "import matplotlib.pyplot as plt\n",
    "import seaborn as sns"
   ]
  },
  {
   "cell_type": "code",
   "execution_count": 2,
   "metadata": {},
   "outputs": [],
   "source": [
    "## Load the final dataset\n",
    "\n",
    "dataset = pd.read_csv('my_data/final_dataset_test.csv')"
   ]
  },
  {
   "cell_type": "markdown",
   "metadata": {},
   "source": [
    "### Import quantity fill zeros"
   ]
  },
  {
   "cell_type": "code",
   "execution_count": 4,
   "metadata": {},
   "outputs": [
    {
     "name": "stdout",
     "output_type": "stream",
     "text": [
      "Minimum import quantity: 0.0\n",
      "Maximum import quantity: 81439.0\n"
     ]
    }
   ],
   "source": [
    "## Get the maximum and minimum values in Import quantity to identify outliers\n",
    "min_import_quantity = dataset['Import Quantity'].min()\n",
    "max_import_quantity = dataset['Import Quantity'].max()\n",
    "\n",
    "print(\"Minimum import quantity:\", min_import_quantity)\n",
    "print(\"Maximum import quantity:\", max_import_quantity)"
   ]
  },
  {
   "cell_type": "markdown",
   "metadata": {},
   "source": [
    "Calculates the median value of \"Import Quantity\" while ignoring zeros, then replaces all zero values with this median. This method should preserve the central tendency of the data without the influence of outliers."
   ]
  },
  {
   "cell_type": "code",
   "execution_count": 5,
   "metadata": {},
   "outputs": [],
   "source": [
    "## Replace zeros in \"Import Quantity\" column\n",
    "\n",
    "# Calculate the median for 'Import Quantity' excluding zeros\n",
    "median_import_quantity = dataset[dataset['Import Quantity'] != 0]['Import Quantity'].median()\n",
    "\n",
    "# Replace zeros with the median\n",
    "dataset['Import Quantity'] = dataset['Import Quantity'].replace(0, median_import_quantity)"
   ]
  },
  {
   "cell_type": "markdown",
   "metadata": {},
   "source": [
    "### Export quantity fill zeros"
   ]
  },
  {
   "cell_type": "code",
   "execution_count": 6,
   "metadata": {},
   "outputs": [
    {
     "name": "stdout",
     "output_type": "stream",
     "text": [
      "Minimum export quantity: -62.0\n",
      "Maximum export quantity: 110246.0\n"
     ]
    }
   ],
   "source": [
    "## Get the maximum and minimum values in Export quantity to identify outliers\n",
    "min_export_quantity = dataset['Export Quantity'].min()\n",
    "max_export_quantity = dataset['Export Quantity'].max()\n",
    "\n",
    "print(\"Minimum export quantity:\", min_export_quantity)\n",
    "print(\"Maximum export quantity:\", max_export_quantity)"
   ]
  },
  {
   "cell_type": "code",
   "execution_count": 7,
   "metadata": {},
   "outputs": [],
   "source": [
    "## Replace the negative values to 0\n",
    "\n",
    "# Replace negative values in 'Export Quantity' with zero\n",
    "dataset['Export Quantity'] = dataset['Export Quantity'].clip(lower=0)"
   ]
  },
  {
   "cell_type": "code",
   "execution_count": 8,
   "metadata": {},
   "outputs": [
    {
     "name": "stdout",
     "output_type": "stream",
     "text": [
      "Minimum export quantity: 0.0\n",
      "Maximum export quantity: 110246.0\n"
     ]
    }
   ],
   "source": [
    "## Get the maximum and minimum values in Export quantity to identify outliers\n",
    "min_export_quantity = dataset['Export Quantity'].min()\n",
    "max_export_quantity = dataset['Export Quantity'].max()\n",
    "\n",
    "print(\"Minimum export quantity:\", min_export_quantity)\n",
    "print(\"Maximum export quantity:\", max_export_quantity)"
   ]
  },
  {
   "cell_type": "markdown",
   "metadata": {},
   "source": [
    "This approach ensures that \"Export Quantity\" is filled with a statistically relevant value, improving the dataset's overall quality without introducing bias from mean values, which could be distorted by extreme outliers."
   ]
  },
  {
   "cell_type": "code",
   "execution_count": 9,
   "metadata": {},
   "outputs": [],
   "source": [
    "# Calculate the median for 'Export Quantity' excluding zeros\n",
    "median_export_quantity = dataset[dataset['Export Quantity'] != 0]['Export Quantity'].median()\n",
    "\n",
    "# Replace zeros with the median\n",
    "dataset['Export Quantity'] = dataset['Export Quantity'].replace(0, median_export_quantity)"
   ]
  },
  {
   "cell_type": "markdown",
   "metadata": {},
   "source": [
    "### Import value fill zeros"
   ]
  },
  {
   "cell_type": "code",
   "execution_count": 10,
   "metadata": {},
   "outputs": [
    {
     "name": "stdout",
     "output_type": "stream",
     "text": [
      "Minimum import value: 0.0\n",
      "Maximum import value: 30569938.11\n"
     ]
    }
   ],
   "source": [
    "## Get the maximum and minimum values in Import value to identify outliers\n",
    "min_import_value = dataset['Import Value'].min()\n",
    "max_import_value = dataset['Import Value'].max()\n",
    "\n",
    "print(\"Minimum import value:\", min_import_value)\n",
    "print(\"Maximum import value:\", max_import_value)"
   ]
  },
  {
   "cell_type": "markdown",
   "metadata": {},
   "source": [
    "Using median imputation for \"Import Value\" helps preserve the underlying distribution of the data, particularly if it is skewed or if outliers are present. This method provides a more robust measure of central tendency than the mean, especially in such contexts, and ensures that the data retains its integrity for subsequent analyses or machine learning modeling."
   ]
  },
  {
   "cell_type": "code",
   "execution_count": 11,
   "metadata": {},
   "outputs": [],
   "source": [
    "# Calculate the median for 'Import Value' excluding zeros\n",
    "median_import_value = dataset[dataset['Import Value'] != 0]['Import Value'].median()\n",
    "\n",
    "# Replace zeros with the median\n",
    "dataset['Import Value'] = dataset['Import Value'].replace(0, median_import_value)"
   ]
  },
  {
   "cell_type": "markdown",
   "metadata": {},
   "source": [
    "### Food inflation fill zeros"
   ]
  },
  {
   "cell_type": "code",
   "execution_count": 12,
   "metadata": {},
   "outputs": [
    {
     "name": "stdout",
     "output_type": "stream",
     "text": [
      "Minimum food inflation: -17.679112\n",
      "Maximum food inflation: 251932.2086\n"
     ]
    }
   ],
   "source": [
    "## Get the maximum and minimum values in food inflation to identify outliers\n",
    "min_food_inflation = dataset['Food Inflation'].min()\n",
    "max_food_inflation = dataset['Food Inflation'].max()\n",
    "\n",
    "print(\"Minimum food inflation:\", min_food_inflation)\n",
    "print(\"Maximum food inflation:\", max_food_inflation)"
   ]
  },
  {
   "cell_type": "markdown",
   "metadata": {},
   "source": [
    "Using median imputation for \"Food Inflation\" helps maintain the integrity of the dataset by ensuring that all entries are plausible and reflective of actual economic conditions, avoiding the distortive effect of zeros which may be placeholders or errors. This approach is consistent and keeps your dataset robust for analytical or modeling purposes."
   ]
  },
  {
   "cell_type": "code",
   "execution_count": 13,
   "metadata": {},
   "outputs": [],
   "source": [
    "# Calculate the median for 'Food Inflation' excluding zeros\n",
    "median_food_inflation = dataset[dataset['Food Inflation'] != 0]['Food Inflation'].median()\n",
    "\n",
    "# Replace zeros with the median\n",
    "dataset['Food Inflation'] = dataset['Food Inflation'].replace(0, median_food_inflation)"
   ]
  },
  {
   "cell_type": "markdown",
   "metadata": {},
   "source": [
    "### Crop losses fill zeros"
   ]
  },
  {
   "cell_type": "code",
   "execution_count": 14,
   "metadata": {},
   "outputs": [
    {
     "name": "stdout",
     "output_type": "stream",
     "text": [
      "Minimum crop losses: 0.0\n",
      "Maximum crop losses: 26939.0\n"
     ]
    }
   ],
   "source": [
    "## Get the maximum and minimum values in crop losses to identify outliers\n",
    "min_crop_losses = dataset['Crop Losses'].min()\n",
    "max_crop_losses = dataset['Crop Losses'].max()\n",
    "\n",
    "print(\"Minimum crop losses:\", min_crop_losses)\n",
    "print(\"Maximum crop losses:\", max_crop_losses)"
   ]
  },
  {
   "cell_type": "code",
   "execution_count": 15,
   "metadata": {},
   "outputs": [],
   "source": [
    "# Calculate the median for 'Crop Losses' excluding zeros\n",
    "median_crop_losses = dataset[dataset['Crop Losses'] != 0]['Crop Losses'].median()\n",
    "\n",
    "# Replace zeros with the median\n",
    "dataset['Crop Losses'] = dataset['Crop Losses'].replace(0, median_crop_losses)"
   ]
  },
  {
   "cell_type": "markdown",
   "metadata": {},
   "source": [
    "### Agricultural land fill zeros"
   ]
  },
  {
   "cell_type": "code",
   "execution_count": 16,
   "metadata": {},
   "outputs": [
    {
     "name": "stdout",
     "output_type": "stream",
     "text": [
      "Minimum Agricultural Land: 0.0\n",
      "Maximum Agricultural Land: 558425.0\n"
     ]
    }
   ],
   "source": [
    "## Get the maximum and minimum values in agricultural land to identify outliers\n",
    "min_agriculturalLand = dataset['Agricultural Land'].min()\n",
    "max_agriculturalLand = dataset['Agricultural Land'].max()\n",
    "\n",
    "print(\"Minimum Agricultural Land:\", min_agriculturalLand)\n",
    "print(\"Maximum Agricultural Land:\", max_agriculturalLand)"
   ]
  },
  {
   "cell_type": "code",
   "execution_count": 17,
   "metadata": {},
   "outputs": [],
   "source": [
    "# Calculate the median for 'Agricultural Land' excluding zeros\n",
    "median_agriculturalLand = dataset[dataset['Agricultural Land'] != 0]['Agricultural Land'].median()\n",
    "\n",
    "# Replace zeros with the median\n",
    "dataset['Agricultural Land'] = dataset['Agricultural Land'].replace(0, median_agriculturalLand)"
   ]
  },
  {
   "cell_type": "markdown",
   "metadata": {},
   "source": [
    "### Permanent crops area fill zeros"
   ]
  },
  {
   "cell_type": "code",
   "execution_count": 18,
   "metadata": {},
   "outputs": [
    {
     "name": "stdout",
     "output_type": "stream",
     "text": [
      "Minimum Permanent Crops Area: 0.0\n",
      "Maximum Permanent Crops Area: 27300.0\n"
     ]
    }
   ],
   "source": [
    "## Get the maximum and minimum values in permanen crops area to identify outliers\n",
    "min_agricultural_permanent_crops = dataset['Permanent Crops Area'].min()\n",
    "max_agricultural_permanent_crops = dataset['Permanent Crops Area'].max()\n",
    "\n",
    "print(\"Minimum Permanent Crops Area:\", min_agricultural_permanent_crops)\n",
    "print(\"Maximum Permanent Crops Area:\", max_agricultural_permanent_crops)"
   ]
  },
  {
   "cell_type": "code",
   "execution_count": 19,
   "metadata": {},
   "outputs": [],
   "source": [
    "# Calculate the median for 'Permanent Crops Area' excluding zeros\n",
    "median_agricultural_permanent_crops = dataset[dataset['Permanent Crops Area'] != 0]['Permanent Crops Area'].median()\n",
    "\n",
    "# Replace zeros with the median\n",
    "dataset['Permanent Crops Area'] = dataset['Permanent Crops Area'].replace(0, median_agricultural_permanent_crops)"
   ]
  },
  {
   "cell_type": "markdown",
   "metadata": {},
   "source": [
    "### Currency exchange for country fill zeros"
   ]
  },
  {
   "cell_type": "code",
   "execution_count": 20,
   "metadata": {},
   "outputs": [
    {
     "name": "stdout",
     "output_type": "stream",
     "text": [
      "Minimum Exchange Data: 0.0\n",
      "Maximum Exchange Data: 2175270.515\n"
     ]
    }
   ],
   "source": [
    "## Get the maximum and minimum values in permanen crops area to identify outliers\n",
    "min_currency_exchange = dataset['Exchange Data'].min()\n",
    "max_currency_exchange = dataset['Exchange Data'].max()\n",
    "\n",
    "print(\"Minimum Exchange Data:\", min_currency_exchange)\n",
    "print(\"Maximum Exchange Data:\", max_currency_exchange)"
   ]
  },
  {
   "cell_type": "code",
   "execution_count": 21,
   "metadata": {},
   "outputs": [],
   "source": [
    "# Calculate the median for 'Exchange Data' excluding zeros\n",
    "median_currency_exchange = dataset[dataset['Exchange Data'] != 0]['Exchange Data'].median()\n",
    "\n",
    "# Replace zeros with the median\n",
    "dataset['Exchange Data'] = dataset['Exchange Data'].replace(0, median_currency_exchange)"
   ]
  },
  {
   "cell_type": "markdown",
   "metadata": {},
   "source": [
    "### Political stability fill zeros"
   ]
  },
  {
   "cell_type": "code",
   "execution_count": 22,
   "metadata": {},
   "outputs": [
    {
     "name": "stdout",
     "output_type": "stream",
     "text": [
      "Minimum Political Stability Index Data: -3.31\n",
      "Maximum Political Stability Index Data: 1.97\n"
     ]
    }
   ],
   "source": [
    "## Get the maximum and minimum values in permanen crops area to identify outliers\n",
    "min_political_index = dataset['Political Stability Index'].min()\n",
    "max_political_index = dataset['Political Stability Index'].max()\n",
    "\n",
    "print(\"Minimum Political Stability Index Data:\", min_political_index)\n",
    "print(\"Maximum Political Stability Index Data:\", max_political_index)"
   ]
  },
  {
   "cell_type": "code",
   "execution_count": 23,
   "metadata": {},
   "outputs": [],
   "source": [
    "# Calculate the median for 'Political Stability Index' excluding zeros\n",
    "median_political_stability = dataset[dataset['Political Stability Index'] != 0]['Political Stability Index'].median()\n",
    "\n",
    "# Replace zeros with the median\n",
    "dataset['Political Stability Index'] = dataset['Political Stability Index'].replace(0, median_political_stability)"
   ]
  },
  {
   "cell_type": "markdown",
   "metadata": {},
   "source": [
    "### Total FDI inflow"
   ]
  },
  {
   "cell_type": "code",
   "execution_count": 24,
   "metadata": {},
   "outputs": [
    {
     "name": "stdout",
     "output_type": "stream",
     "text": [
      "Minimum Total FDI inflow Data: -322053.7813\n",
      "Maximum Total FDI inflow Data: 467625.0\n"
     ]
    }
   ],
   "source": [
    "## Get the maximum and minimum values in permanen crops area to identify outliers\n",
    "min_total_fdi_inflow = dataset['Total FDI inflow'].min()\n",
    "max_total_fdi_inflow = dataset['Total FDI inflow'].max()\n",
    "\n",
    "print(\"Minimum Total FDI inflow Data:\", min_total_fdi_inflow)\n",
    "print(\"Maximum Total FDI inflow Data:\", max_total_fdi_inflow)"
   ]
  },
  {
   "cell_type": "code",
   "execution_count": 25,
   "metadata": {},
   "outputs": [],
   "source": [
    "# Calculate the median for 'Total FDI inflow' excluding zeros\n",
    "median_total_fdi_inflow = dataset[dataset['Total FDI inflow'] != 0]['Total FDI inflow'].median()\n",
    "\n",
    "# Replace zeros with the median\n",
    "dataset['Total FDI inflow'] = dataset['Total FDI inflow'].replace(0, median_total_fdi_inflow)"
   ]
  },
  {
   "cell_type": "markdown",
   "metadata": {},
   "source": [
    "### Total FDI outflow"
   ]
  },
  {
   "cell_type": "code",
   "execution_count": 26,
   "metadata": {},
   "outputs": [
    {
     "name": "stdout",
     "output_type": "stream",
     "text": [
      "Minimum Total FDI outflow Data: -264952.2337\n",
      "Maximum Total FDI outflow Data: 396569.0\n"
     ]
    }
   ],
   "source": [
    "## Get the maximum and minimum values in permanen crops area to identify outliers\n",
    "min_total_fdi_outflow = dataset['Total FDI outflow'].min()\n",
    "max_total_fdi_outflow = dataset['Total FDI outflow'].max()\n",
    "\n",
    "print(\"Minimum Total FDI outflow Data:\", min_total_fdi_outflow)\n",
    "print(\"Maximum Total FDI outflow Data:\", max_total_fdi_outflow)"
   ]
  },
  {
   "cell_type": "code",
   "execution_count": 27,
   "metadata": {},
   "outputs": [],
   "source": [
    "# Calculate the median for 'Total FDI outflow' excluding zeros\n",
    "median_total_fdi_outflow = dataset[dataset['Total FDI outflow'] != 0]['Total FDI outflow'].median()\n",
    "\n",
    "# Replace zeros with the median\n",
    "dataset['Total FDI outflow'] = dataset['Total FDI outflow'].replace(0, median_total_fdi_outflow)"
   ]
  },
  {
   "cell_type": "markdown",
   "metadata": {},
   "source": [
    "### Export Value fill zeros"
   ]
  },
  {
   "cell_type": "code",
   "execution_count": 28,
   "metadata": {},
   "outputs": [
    {
     "name": "stdout",
     "output_type": "stream",
     "text": [
      "Minimum export value: 0.0\n",
      "Maximum export value: 36920221.59\n"
     ]
    }
   ],
   "source": [
    "## Get the maximum and minimum values in Export value to identify outliers\n",
    "min_export_value = dataset['Export Value'].min()\n",
    "max_export_value = dataset['Export Value'].max()\n",
    "\n",
    "print(\"Minimum export value:\", min_export_value)\n",
    "print(\"Maximum export value:\", max_export_value)"
   ]
  },
  {
   "cell_type": "code",
   "execution_count": 29,
   "metadata": {},
   "outputs": [],
   "source": [
    "# Calculate the median for 'Export Value' excluding zeros\n",
    "median_export_value = dataset[dataset['Export Value'] != 0]['Export Value'].median()\n",
    "\n",
    "# Replace zeros with the median\n",
    "dataset['Export Value'] = dataset['Export Value'].replace(0, median_export_value)"
   ]
  },
  {
   "cell_type": "markdown",
   "metadata": {},
   "source": [
    "### Export the final dataset"
   ]
  },
  {
   "cell_type": "code",
   "execution_count": 30,
   "metadata": {},
   "outputs": [
    {
     "data": {
      "text/html": [
       "<div>\n",
       "<style scoped>\n",
       "    .dataframe tbody tr th:only-of-type {\n",
       "        vertical-align: middle;\n",
       "    }\n",
       "\n",
       "    .dataframe tbody tr th {\n",
       "        vertical-align: top;\n",
       "    }\n",
       "\n",
       "    .dataframe thead th {\n",
       "        text-align: right;\n",
       "    }\n",
       "</style>\n",
       "<table border=\"1\" class=\"dataframe\">\n",
       "  <thead>\n",
       "    <tr style=\"text-align: right;\">\n",
       "      <th></th>\n",
       "      <th>Area</th>\n",
       "      <th>Year</th>\n",
       "      <th>Import Quantity</th>\n",
       "      <th>Export Quantity</th>\n",
       "      <th>Import Value</th>\n",
       "      <th>Food Inflation</th>\n",
       "      <th>Exchange Data</th>\n",
       "      <th>Crop Losses</th>\n",
       "      <th>Agricultural Land</th>\n",
       "      <th>Permanent Crops Area</th>\n",
       "      <th>Political Stability Index</th>\n",
       "      <th>Total FDI inflow</th>\n",
       "      <th>Total FDI outflow</th>\n",
       "      <th>Export Value</th>\n",
       "    </tr>\n",
       "  </thead>\n",
       "  <tbody>\n",
       "    <tr>\n",
       "      <th>0</th>\n",
       "      <td>Afghanistan</td>\n",
       "      <td>1980</td>\n",
       "      <td>989.0</td>\n",
       "      <td>107.0</td>\n",
       "      <td>171733.84</td>\n",
       "      <td>4.148904</td>\n",
       "      <td>44.129167</td>\n",
       "      <td>112.0</td>\n",
       "      <td>38049.0</td>\n",
       "      <td>139.0</td>\n",
       "      <td>0.05</td>\n",
       "      <td>581.949849</td>\n",
       "      <td>77.122151</td>\n",
       "      <td>17967.82613</td>\n",
       "    </tr>\n",
       "    <tr>\n",
       "      <th>1</th>\n",
       "      <td>Afghanistan</td>\n",
       "      <td>1981</td>\n",
       "      <td>989.0</td>\n",
       "      <td>107.0</td>\n",
       "      <td>171733.84</td>\n",
       "      <td>4.148904</td>\n",
       "      <td>49.479902</td>\n",
       "      <td>112.0</td>\n",
       "      <td>38053.0</td>\n",
       "      <td>143.0</td>\n",
       "      <td>0.05</td>\n",
       "      <td>581.949849</td>\n",
       "      <td>77.122151</td>\n",
       "      <td>17967.82613</td>\n",
       "    </tr>\n",
       "    <tr>\n",
       "      <th>2</th>\n",
       "      <td>Afghanistan</td>\n",
       "      <td>1982</td>\n",
       "      <td>989.0</td>\n",
       "      <td>107.0</td>\n",
       "      <td>171733.84</td>\n",
       "      <td>4.148904</td>\n",
       "      <td>50.599608</td>\n",
       "      <td>112.0</td>\n",
       "      <td>38054.0</td>\n",
       "      <td>144.0</td>\n",
       "      <td>0.05</td>\n",
       "      <td>581.949849</td>\n",
       "      <td>77.122151</td>\n",
       "      <td>17967.82613</td>\n",
       "    </tr>\n",
       "    <tr>\n",
       "      <th>3</th>\n",
       "      <td>Afghanistan</td>\n",
       "      <td>1983</td>\n",
       "      <td>989.0</td>\n",
       "      <td>107.0</td>\n",
       "      <td>171733.84</td>\n",
       "      <td>4.148904</td>\n",
       "      <td>50.599608</td>\n",
       "      <td>112.0</td>\n",
       "      <td>38054.0</td>\n",
       "      <td>144.0</td>\n",
       "      <td>0.05</td>\n",
       "      <td>581.949849</td>\n",
       "      <td>77.122151</td>\n",
       "      <td>17967.82613</td>\n",
       "    </tr>\n",
       "    <tr>\n",
       "      <th>4</th>\n",
       "      <td>Afghanistan</td>\n",
       "      <td>1984</td>\n",
       "      <td>989.0</td>\n",
       "      <td>107.0</td>\n",
       "      <td>171733.84</td>\n",
       "      <td>4.148904</td>\n",
       "      <td>50.599606</td>\n",
       "      <td>112.0</td>\n",
       "      <td>38054.0</td>\n",
       "      <td>144.0</td>\n",
       "      <td>0.05</td>\n",
       "      <td>581.949849</td>\n",
       "      <td>77.122151</td>\n",
       "      <td>17967.82613</td>\n",
       "    </tr>\n",
       "    <tr>\n",
       "      <th>...</th>\n",
       "      <td>...</td>\n",
       "      <td>...</td>\n",
       "      <td>...</td>\n",
       "      <td>...</td>\n",
       "      <td>...</td>\n",
       "      <td>...</td>\n",
       "      <td>...</td>\n",
       "      <td>...</td>\n",
       "      <td>...</td>\n",
       "      <td>...</td>\n",
       "      <td>...</td>\n",
       "      <td>...</td>\n",
       "      <td>...</td>\n",
       "      <td>...</td>\n",
       "    </tr>\n",
       "    <tr>\n",
       "      <th>10142</th>\n",
       "      <td>Åland Islands</td>\n",
       "      <td>2019</td>\n",
       "      <td>989.0</td>\n",
       "      <td>107.0</td>\n",
       "      <td>171733.84</td>\n",
       "      <td>1.942669</td>\n",
       "      <td>0.875932</td>\n",
       "      <td>112.0</td>\n",
       "      <td>2323.0</td>\n",
       "      <td>97.0</td>\n",
       "      <td>0.05</td>\n",
       "      <td>581.949849</td>\n",
       "      <td>77.122151</td>\n",
       "      <td>17967.82613</td>\n",
       "    </tr>\n",
       "    <tr>\n",
       "      <th>10143</th>\n",
       "      <td>Åland Islands</td>\n",
       "      <td>2020</td>\n",
       "      <td>989.0</td>\n",
       "      <td>107.0</td>\n",
       "      <td>171733.84</td>\n",
       "      <td>3.064903</td>\n",
       "      <td>0.900871</td>\n",
       "      <td>112.0</td>\n",
       "      <td>2323.0</td>\n",
       "      <td>97.0</td>\n",
       "      <td>0.05</td>\n",
       "      <td>581.949849</td>\n",
       "      <td>77.122151</td>\n",
       "      <td>17967.82613</td>\n",
       "    </tr>\n",
       "    <tr>\n",
       "      <th>10144</th>\n",
       "      <td>Åland Islands</td>\n",
       "      <td>2021</td>\n",
       "      <td>989.0</td>\n",
       "      <td>107.0</td>\n",
       "      <td>171733.84</td>\n",
       "      <td>-1.115151</td>\n",
       "      <td>0.821635</td>\n",
       "      <td>112.0</td>\n",
       "      <td>2323.0</td>\n",
       "      <td>97.0</td>\n",
       "      <td>0.05</td>\n",
       "      <td>581.949849</td>\n",
       "      <td>77.122151</td>\n",
       "      <td>17967.82613</td>\n",
       "    </tr>\n",
       "    <tr>\n",
       "      <th>10145</th>\n",
       "      <td>Åland Islands</td>\n",
       "      <td>2022</td>\n",
       "      <td>989.0</td>\n",
       "      <td>107.0</td>\n",
       "      <td>171733.84</td>\n",
       "      <td>3.537360</td>\n",
       "      <td>0.883824</td>\n",
       "      <td>112.0</td>\n",
       "      <td>2323.0</td>\n",
       "      <td>97.0</td>\n",
       "      <td>0.05</td>\n",
       "      <td>581.949849</td>\n",
       "      <td>77.122151</td>\n",
       "      <td>17967.82613</td>\n",
       "    </tr>\n",
       "    <tr>\n",
       "      <th>10146</th>\n",
       "      <td>Åland Islands</td>\n",
       "      <td>2023</td>\n",
       "      <td>989.0</td>\n",
       "      <td>107.0</td>\n",
       "      <td>171733.84</td>\n",
       "      <td>16.094183</td>\n",
       "      <td>0.928591</td>\n",
       "      <td>112.0</td>\n",
       "      <td>2323.0</td>\n",
       "      <td>97.0</td>\n",
       "      <td>0.05</td>\n",
       "      <td>581.949849</td>\n",
       "      <td>77.122151</td>\n",
       "      <td>17967.82613</td>\n",
       "    </tr>\n",
       "  </tbody>\n",
       "</table>\n",
       "<p>10147 rows × 14 columns</p>\n",
       "</div>"
      ],
      "text/plain": [
       "                Area  Year  Import Quantity  Export Quantity  Import Value  \\\n",
       "0        Afghanistan  1980            989.0            107.0     171733.84   \n",
       "1        Afghanistan  1981            989.0            107.0     171733.84   \n",
       "2        Afghanistan  1982            989.0            107.0     171733.84   \n",
       "3        Afghanistan  1983            989.0            107.0     171733.84   \n",
       "4        Afghanistan  1984            989.0            107.0     171733.84   \n",
       "...              ...   ...              ...              ...           ...   \n",
       "10142  Åland Islands  2019            989.0            107.0     171733.84   \n",
       "10143  Åland Islands  2020            989.0            107.0     171733.84   \n",
       "10144  Åland Islands  2021            989.0            107.0     171733.84   \n",
       "10145  Åland Islands  2022            989.0            107.0     171733.84   \n",
       "10146  Åland Islands  2023            989.0            107.0     171733.84   \n",
       "\n",
       "       Food Inflation  Exchange Data  Crop Losses  Agricultural Land  \\\n",
       "0            4.148904      44.129167        112.0            38049.0   \n",
       "1            4.148904      49.479902        112.0            38053.0   \n",
       "2            4.148904      50.599608        112.0            38054.0   \n",
       "3            4.148904      50.599608        112.0            38054.0   \n",
       "4            4.148904      50.599606        112.0            38054.0   \n",
       "...               ...            ...          ...                ...   \n",
       "10142        1.942669       0.875932        112.0             2323.0   \n",
       "10143        3.064903       0.900871        112.0             2323.0   \n",
       "10144       -1.115151       0.821635        112.0             2323.0   \n",
       "10145        3.537360       0.883824        112.0             2323.0   \n",
       "10146       16.094183       0.928591        112.0             2323.0   \n",
       "\n",
       "       Permanent Crops Area  Political Stability Index  Total FDI inflow  \\\n",
       "0                     139.0                       0.05        581.949849   \n",
       "1                     143.0                       0.05        581.949849   \n",
       "2                     144.0                       0.05        581.949849   \n",
       "3                     144.0                       0.05        581.949849   \n",
       "4                     144.0                       0.05        581.949849   \n",
       "...                     ...                        ...               ...   \n",
       "10142                  97.0                       0.05        581.949849   \n",
       "10143                  97.0                       0.05        581.949849   \n",
       "10144                  97.0                       0.05        581.949849   \n",
       "10145                  97.0                       0.05        581.949849   \n",
       "10146                  97.0                       0.05        581.949849   \n",
       "\n",
       "       Total FDI outflow  Export Value  \n",
       "0              77.122151   17967.82613  \n",
       "1              77.122151   17967.82613  \n",
       "2              77.122151   17967.82613  \n",
       "3              77.122151   17967.82613  \n",
       "4              77.122151   17967.82613  \n",
       "...                  ...           ...  \n",
       "10142          77.122151   17967.82613  \n",
       "10143          77.122151   17967.82613  \n",
       "10144          77.122151   17967.82613  \n",
       "10145          77.122151   17967.82613  \n",
       "10146          77.122151   17967.82613  \n",
       "\n",
       "[10147 rows x 14 columns]"
      ]
     },
     "execution_count": 30,
     "metadata": {},
     "output_type": "execute_result"
    }
   ],
   "source": [
    "# Save the merged dataframe\n",
    "dataset.to_csv('my_data/dataset_full_features.csv', index=False)\n",
    "dataset"
   ]
  },
  {
   "cell_type": "markdown",
   "metadata": {},
   "source": [
    "### Get the correlation matrix\n",
    "\n",
    "#### The analysis\n",
    "Here is an analysis of the correlations between each feature and the target variable 'Export Value' as well as notable correlations among features themselves:\n",
    "\n",
    "* Import Quantity:\n",
    "    * Export Value: Correlation of 0.293 suggests a moderate positive association. Higher import quantities might indicate a robust trade environment, possibly boosting export values.\n",
    "    * Import Value: A high correlation of 0.765 indicates that increases in import quantity generally correspond to increases in the monetary value of imports.\n",
    "    * Crop Losses: Correlation of 0.597 implies that regions experiencing higher import quantities may also experience significant crop losses, possibly due to reliance on imports when local production is insufficient.\n",
    "\n",
    "* Export Quantity:\n",
    "    * Export Value: Strong correlation of 0.739, indicating that the volume of goods exported strongly influences the monetary value of exports.\n",
    "    * Total FDI inflow: Correlation of 0.401 suggests that higher levels of foreign direct investment inflow are associated with higher export quantities, possibly due to increased production capacity or market expansion facilitated by FDI.\n",
    "\n",
    "* Import Value:\n",
    "    * Export Value: Moderate correlation of 0.506 implies that higher import values are often paralleled by higher export values, perhaps indicative of active trade sectors in higher GDP countries.\n",
    "\n",
    "* Exchange Data:\n",
    "    * Export Value: Very weak correlation of -0.0026, indicating nearly no linear relationship between exchange rate data and export value. Exchange rates might not directly impact the export value when other economic factors are considered.\n",
    "\n",
    "* Food Inflation:\n",
    "    * Export Value: Negligible correlation of -0.0024 suggests that general food inflation rates do not significantly affect the value of exports directly.\n",
    "\n",
    "* Crop Losses:\n",
    "    * Export Value: Moderate correlation of 0.330 indicates that areas with significant crop losses might see higher export values, perhaps due to price increases of scarce goods.\n",
    "\n",
    "* Agricultural Land:\n",
    "    * Export Value: Moderate correlation of 0.345 suggests that larger areas dedicated to agriculture might support higher export values, potentially through increased agricultural output.\n",
    "\n",
    "* Permanent Crops Area:\n",
    "    * Export Value: Lower correlation of 0.174 suggests a smaller, yet positive relationship, indicating that the area under permanent crops plays a less significant role in influencing export values compared to total agricultural land.\n",
    "\n",
    "* Political Stability Index:\n",
    "    * Export Value: Weak correlation of 0.061 indicates that political stability has a marginal positive impact on export value. More stable political environments might foster better economic conditions, marginally increasing export values.\n",
    "\n",
    "* Total FDI inflow:\n",
    "    * Export Value: Moderate correlation of 0.435 shows that higher FDI inflows are associated with higher export values, potentially reflecting better economic conditions and investment climates that favor export growth.\n",
    "\n",
    "* Total FDI outflow:\n",
    "    * Export Value: Moderate correlation of 0.554, stronger than FDI inflow, suggesting that countries that invest more abroad may also have higher export values, possibly due to multinational operations and global trade integration.\n",
    "\n",
    "These correlations indicate various degrees of relationships between economic, agricultural, and political factors with export activities. When developing predictive models or making economic forecasts, these correlations help identify the key variables that could significantly impact the outcomes related to export activities."
   ]
  },
  {
   "cell_type": "code",
   "execution_count": 37,
   "metadata": {},
   "outputs": [
    {
     "data": {
      "text/html": [
       "<div>\n",
       "<style scoped>\n",
       "    .dataframe tbody tr th:only-of-type {\n",
       "        vertical-align: middle;\n",
       "    }\n",
       "\n",
       "    .dataframe tbody tr th {\n",
       "        vertical-align: top;\n",
       "    }\n",
       "\n",
       "    .dataframe thead th {\n",
       "        text-align: right;\n",
       "    }\n",
       "</style>\n",
       "<table border=\"1\" class=\"dataframe\">\n",
       "  <thead>\n",
       "    <tr style=\"text-align: right;\">\n",
       "      <th></th>\n",
       "      <th>Export Value</th>\n",
       "    </tr>\n",
       "  </thead>\n",
       "  <tbody>\n",
       "    <tr>\n",
       "      <th>Import Quantity</th>\n",
       "      <td>0.292854</td>\n",
       "    </tr>\n",
       "    <tr>\n",
       "      <th>Export Quantity</th>\n",
       "      <td>0.739453</td>\n",
       "    </tr>\n",
       "    <tr>\n",
       "      <th>Import Value</th>\n",
       "      <td>0.505774</td>\n",
       "    </tr>\n",
       "    <tr>\n",
       "      <th>Exchange Data</th>\n",
       "      <td>-0.002642</td>\n",
       "    </tr>\n",
       "    <tr>\n",
       "      <th>Food Inflation</th>\n",
       "      <td>-0.002408</td>\n",
       "    </tr>\n",
       "    <tr>\n",
       "      <th>Crop Losses</th>\n",
       "      <td>0.330189</td>\n",
       "    </tr>\n",
       "    <tr>\n",
       "      <th>Agricultural Land</th>\n",
       "      <td>0.345081</td>\n",
       "    </tr>\n",
       "    <tr>\n",
       "      <th>Permanent Crops Area</th>\n",
       "      <td>0.174233</td>\n",
       "    </tr>\n",
       "    <tr>\n",
       "      <th>Political Stability Index</th>\n",
       "      <td>0.060715</td>\n",
       "    </tr>\n",
       "    <tr>\n",
       "      <th>Total FDI inflow</th>\n",
       "      <td>0.435153</td>\n",
       "    </tr>\n",
       "    <tr>\n",
       "      <th>Total FDI outflow</th>\n",
       "      <td>0.554341</td>\n",
       "    </tr>\n",
       "  </tbody>\n",
       "</table>\n",
       "</div>"
      ],
      "text/plain": [
       "                           Export Value\n",
       "Import Quantity                0.292854\n",
       "Export Quantity                0.739453\n",
       "Import Value                   0.505774\n",
       "Exchange Data                 -0.002642\n",
       "Food Inflation                -0.002408\n",
       "Crop Losses                    0.330189\n",
       "Agricultural Land              0.345081\n",
       "Permanent Crops Area           0.174233\n",
       "Political Stability Index      0.060715\n",
       "Total FDI inflow               0.435153\n",
       "Total FDI outflow              0.554341"
      ]
     },
     "execution_count": 37,
     "metadata": {},
     "output_type": "execute_result"
    }
   ],
   "source": [
    "# Selecting relevant columns\n",
    "features = ['Import Quantity', 'Export Quantity', 'Import Value', 'Exchange Data', \n",
    "            'Food Inflation', 'Crop Losses', 'Agricultural Land', 'Permanent Crops Area',\n",
    "            'Political Stability Index', 'Total FDI inflow', 'Total FDI outflow']\n",
    "target = ['Export Value']\n",
    "\n",
    "# Calculate the correlation matrix\n",
    "correlation_matrix = dataset[features + target].corr()\n",
    "\n",
    "# Display the correlation values with 'Export Value'\n",
    "correlation_with_target = correlation_matrix[target].drop(target)\n",
    "correlation_with_target\n"
   ]
  },
  {
   "cell_type": "code",
   "execution_count": 34,
   "metadata": {},
   "outputs": [
    {
     "data": {
      "image/png": "[encoded data removed]",
      "text/plain": [
       "<Figure size 800x600 with 2 Axes>"
      ]
     },
     "metadata": {},
     "output_type": "display_data"
    }
   ],
   "source": [
    "# Setting up the visual appearance of the heatmap\n",
    "plt.figure(figsize=(8, 6))\n",
    "sns.heatmap(correlation_matrix, annot=True, fmt=\".2f\", cmap='coolwarm', cbar=True)\n",
    "\n",
    "# Adding titles and labels\n",
    "plt.title('Correlation Matrix Heat Map')\n",
    "plt.show()"
   ]
  }
 ],
 "metadata": {
  "kernelspec": {
   "display_name": "MachineLearningCW",
   "language": "python",
   "name": "python3"
  },
  "language_info": {
   "codemirror_mode": {
    "name": "ipython",
    "version": 3
   },
   "file_extension": ".py",
   "mimetype": "text/x-python",
   "name": "python",
   "nbconvert_exporter": "python",
   "pygments_lexer": "ipython3",
   "version": "3.11.4"
  }
 },
 "nbformat": 4,
 "nbformat_minor": 2
}
